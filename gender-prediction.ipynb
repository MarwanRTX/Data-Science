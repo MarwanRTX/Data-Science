{
 "cells": [
  {
   "cell_type": "markdown",
   "id": "437efab1",
   "metadata": {
    "_cell_guid": "b1076dfc-b9ad-4769-8c92-a6c4dae69d19",
    "_uuid": "8f2839f25d086af736a60e9eeb907d3b93b6e0e5",
    "execution": {
     "iopub.execute_input": "2024-04-02T15:28:32.853613Z",
     "iopub.status.busy": "2024-04-02T15:28:32.853206Z",
     "iopub.status.idle": "2024-04-02T15:28:32.882312Z",
     "shell.execute_reply": "2024-04-02T15:28:32.881484Z",
     "shell.execute_reply.started": "2024-04-02T15:28:32.853583Z"
    },
    "papermill": {
     "duration": 0.01004,
     "end_time": "2024-04-02T17:27:05.003869",
     "exception": false,
     "start_time": "2024-04-02T17:27:04.993829",
     "status": "completed"
    },
    "tags": []
   },
   "source": [
    "> ## Intro\n",
    "\n",
    "### In this dataset i will try to detect and remove outliers and also make some visualizations and a machine learing model that will predict it is make or female"
   ]
  },
  {
   "cell_type": "code",
   "execution_count": 1,
   "id": "8942dd6b",
   "metadata": {
    "execution": {
     "iopub.execute_input": "2024-04-02T17:27:05.023617Z",
     "iopub.status.busy": "2024-04-02T17:27:05.023127Z",
     "iopub.status.idle": "2024-04-02T17:27:08.455644Z",
     "shell.execute_reply": "2024-04-02T17:27:08.454353Z"
    },
    "papermill": {
     "duration": 3.445856,
     "end_time": "2024-04-02T17:27:08.458692",
     "exception": false,
     "start_time": "2024-04-02T17:27:05.012836",
     "status": "completed"
    },
    "tags": []
   },
   "outputs": [],
   "source": [
    "import pandas as pd\n",
    "import numpy as np\n",
    "import matplotlib.pyplot as plt\n",
    "import seaborn as sns\n",
    "from scipy import stats\n",
    "from sklearn import preprocessing \n",
    "from sklearn.linear_model import LinearRegression\n",
    "from sklearn.model_selection import train_test_split\n",
    "df = pd.read_csv(\"/kaggle/input/weight-and-height-data-outlier-detection/weight-height.csv\")"
   ]
  },
  {
   "cell_type": "code",
   "execution_count": 2,
   "id": "9cd65f74",
   "metadata": {
    "execution": {
     "iopub.execute_input": "2024-04-02T17:27:08.477828Z",
     "iopub.status.busy": "2024-04-02T17:27:08.477368Z",
     "iopub.status.idle": "2024-04-02T17:27:08.500555Z",
     "shell.execute_reply": "2024-04-02T17:27:08.499481Z"
    },
    "papermill": {
     "duration": 0.035828,
     "end_time": "2024-04-02T17:27:08.503070",
     "exception": false,
     "start_time": "2024-04-02T17:27:08.467242",
     "status": "completed"
    },
    "tags": []
   },
   "outputs": [
    {
     "data": {
      "text/html": [
       "<div>\n",
       "<style scoped>\n",
       "    .dataframe tbody tr th:only-of-type {\n",
       "        vertical-align: middle;\n",
       "    }\n",
       "\n",
       "    .dataframe tbody tr th {\n",
       "        vertical-align: top;\n",
       "    }\n",
       "\n",
       "    .dataframe thead th {\n",
       "        text-align: right;\n",
       "    }\n",
       "</style>\n",
       "<table border=\"1\" class=\"dataframe\">\n",
       "  <thead>\n",
       "    <tr style=\"text-align: right;\">\n",
       "      <th></th>\n",
       "      <th>Gender</th>\n",
       "      <th>Height</th>\n",
       "      <th>Weight</th>\n",
       "    </tr>\n",
       "  </thead>\n",
       "  <tbody>\n",
       "    <tr>\n",
       "      <th>0</th>\n",
       "      <td>Male</td>\n",
       "      <td>73.847017</td>\n",
       "      <td>241.893563</td>\n",
       "    </tr>\n",
       "    <tr>\n",
       "      <th>1</th>\n",
       "      <td>Male</td>\n",
       "      <td>68.781904</td>\n",
       "      <td>162.310473</td>\n",
       "    </tr>\n",
       "    <tr>\n",
       "      <th>2</th>\n",
       "      <td>Male</td>\n",
       "      <td>74.110105</td>\n",
       "      <td>212.740856</td>\n",
       "    </tr>\n",
       "    <tr>\n",
       "      <th>3</th>\n",
       "      <td>Male</td>\n",
       "      <td>71.730978</td>\n",
       "      <td>220.042470</td>\n",
       "    </tr>\n",
       "    <tr>\n",
       "      <th>4</th>\n",
       "      <td>Male</td>\n",
       "      <td>69.881796</td>\n",
       "      <td>206.349801</td>\n",
       "    </tr>\n",
       "  </tbody>\n",
       "</table>\n",
       "</div>"
      ],
      "text/plain": [
       "  Gender     Height      Weight\n",
       "0   Male  73.847017  241.893563\n",
       "1   Male  68.781904  162.310473\n",
       "2   Male  74.110105  212.740856\n",
       "3   Male  71.730978  220.042470\n",
       "4   Male  69.881796  206.349801"
      ]
     },
     "execution_count": 2,
     "metadata": {},
     "output_type": "execute_result"
    }
   ],
   "source": [
    "df.head()"
   ]
  },
  {
   "cell_type": "code",
   "execution_count": 3,
   "id": "ad23f27b",
   "metadata": {
    "execution": {
     "iopub.execute_input": "2024-04-02T17:27:08.523858Z",
     "iopub.status.busy": "2024-04-02T17:27:08.523411Z",
     "iopub.status.idle": "2024-04-02T17:27:08.551166Z",
     "shell.execute_reply": "2024-04-02T17:27:08.549966Z"
    },
    "papermill": {
     "duration": 0.041348,
     "end_time": "2024-04-02T17:27:08.554002",
     "exception": false,
     "start_time": "2024-04-02T17:27:08.512654",
     "status": "completed"
    },
    "tags": []
   },
   "outputs": [
    {
     "data": {
      "text/html": [
       "<div>\n",
       "<style scoped>\n",
       "    .dataframe tbody tr th:only-of-type {\n",
       "        vertical-align: middle;\n",
       "    }\n",
       "\n",
       "    .dataframe tbody tr th {\n",
       "        vertical-align: top;\n",
       "    }\n",
       "\n",
       "    .dataframe thead th {\n",
       "        text-align: right;\n",
       "    }\n",
       "</style>\n",
       "<table border=\"1\" class=\"dataframe\">\n",
       "  <thead>\n",
       "    <tr style=\"text-align: right;\">\n",
       "      <th></th>\n",
       "      <th>Height</th>\n",
       "      <th>Weight</th>\n",
       "    </tr>\n",
       "  </thead>\n",
       "  <tbody>\n",
       "    <tr>\n",
       "      <th>count</th>\n",
       "      <td>10000.000000</td>\n",
       "      <td>10000.000000</td>\n",
       "    </tr>\n",
       "    <tr>\n",
       "      <th>mean</th>\n",
       "      <td>66.367560</td>\n",
       "      <td>161.440357</td>\n",
       "    </tr>\n",
       "    <tr>\n",
       "      <th>std</th>\n",
       "      <td>3.847528</td>\n",
       "      <td>32.108439</td>\n",
       "    </tr>\n",
       "    <tr>\n",
       "      <th>min</th>\n",
       "      <td>54.263133</td>\n",
       "      <td>64.700127</td>\n",
       "    </tr>\n",
       "    <tr>\n",
       "      <th>25%</th>\n",
       "      <td>63.505620</td>\n",
       "      <td>135.818051</td>\n",
       "    </tr>\n",
       "    <tr>\n",
       "      <th>50%</th>\n",
       "      <td>66.318070</td>\n",
       "      <td>161.212928</td>\n",
       "    </tr>\n",
       "    <tr>\n",
       "      <th>75%</th>\n",
       "      <td>69.174262</td>\n",
       "      <td>187.169525</td>\n",
       "    </tr>\n",
       "    <tr>\n",
       "      <th>max</th>\n",
       "      <td>78.998742</td>\n",
       "      <td>269.989699</td>\n",
       "    </tr>\n",
       "  </tbody>\n",
       "</table>\n",
       "</div>"
      ],
      "text/plain": [
       "             Height        Weight\n",
       "count  10000.000000  10000.000000\n",
       "mean      66.367560    161.440357\n",
       "std        3.847528     32.108439\n",
       "min       54.263133     64.700127\n",
       "25%       63.505620    135.818051\n",
       "50%       66.318070    161.212928\n",
       "75%       69.174262    187.169525\n",
       "max       78.998742    269.989699"
      ]
     },
     "execution_count": 3,
     "metadata": {},
     "output_type": "execute_result"
    }
   ],
   "source": [
    "df.describe()"
   ]
  },
  {
   "cell_type": "code",
   "execution_count": 4,
   "id": "4816c42b",
   "metadata": {
    "execution": {
     "iopub.execute_input": "2024-04-02T17:27:08.574860Z",
     "iopub.status.busy": "2024-04-02T17:27:08.574371Z",
     "iopub.status.idle": "2024-04-02T17:27:08.582633Z",
     "shell.execute_reply": "2024-04-02T17:27:08.581205Z"
    },
    "papermill": {
     "duration": 0.021931,
     "end_time": "2024-04-02T17:27:08.585281",
     "exception": false,
     "start_time": "2024-04-02T17:27:08.563350",
     "status": "completed"
    },
    "tags": []
   },
   "outputs": [
    {
     "data": {
      "text/plain": [
       "(10000, 3)"
      ]
     },
     "execution_count": 4,
     "metadata": {},
     "output_type": "execute_result"
    }
   ],
   "source": [
    "df.shape"
   ]
  },
  {
   "cell_type": "code",
   "execution_count": 5,
   "id": "54252fea",
   "metadata": {
    "execution": {
     "iopub.execute_input": "2024-04-02T17:27:08.607109Z",
     "iopub.status.busy": "2024-04-02T17:27:08.606684Z",
     "iopub.status.idle": "2024-04-02T17:27:08.634648Z",
     "shell.execute_reply": "2024-04-02T17:27:08.633173Z"
    },
    "papermill": {
     "duration": 0.043003,
     "end_time": "2024-04-02T17:27:08.638166",
     "exception": false,
     "start_time": "2024-04-02T17:27:08.595163",
     "status": "completed"
    },
    "tags": []
   },
   "outputs": [
    {
     "name": "stdout",
     "output_type": "stream",
     "text": [
      "<class 'pandas.core.frame.DataFrame'>\n",
      "RangeIndex: 10000 entries, 0 to 9999\n",
      "Data columns (total 3 columns):\n",
      " #   Column  Non-Null Count  Dtype  \n",
      "---  ------  --------------  -----  \n",
      " 0   Gender  10000 non-null  object \n",
      " 1   Height  10000 non-null  float64\n",
      " 2   Weight  10000 non-null  float64\n",
      "dtypes: float64(2), object(1)\n",
      "memory usage: 234.5+ KB\n"
     ]
    }
   ],
   "source": [
    "df.info()"
   ]
  },
  {
   "cell_type": "code",
   "execution_count": 6,
   "id": "89112716",
   "metadata": {
    "execution": {
     "iopub.execute_input": "2024-04-02T17:27:08.659792Z",
     "iopub.status.busy": "2024-04-02T17:27:08.658804Z",
     "iopub.status.idle": "2024-04-02T17:27:08.672452Z",
     "shell.execute_reply": "2024-04-02T17:27:08.671211Z"
    },
    "papermill": {
     "duration": 0.027081,
     "end_time": "2024-04-02T17:27:08.674775",
     "exception": false,
     "start_time": "2024-04-02T17:27:08.647694",
     "status": "completed"
    },
    "tags": []
   },
   "outputs": [
    {
     "data": {
      "text/plain": [
       "Gender    0\n",
       "Height    0\n",
       "Weight    0\n",
       "dtype: int64"
      ]
     },
     "execution_count": 6,
     "metadata": {},
     "output_type": "execute_result"
    }
   ],
   "source": [
    "df.isnull().sum()"
   ]
  },
  {
   "cell_type": "code",
   "execution_count": 7,
   "id": "f882f418",
   "metadata": {
    "execution": {
     "iopub.execute_input": "2024-04-02T17:27:08.695711Z",
     "iopub.status.busy": "2024-04-02T17:27:08.695277Z",
     "iopub.status.idle": "2024-04-02T17:27:08.707214Z",
     "shell.execute_reply": "2024-04-02T17:27:08.705955Z"
    },
    "papermill": {
     "duration": 0.025419,
     "end_time": "2024-04-02T17:27:08.709653",
     "exception": false,
     "start_time": "2024-04-02T17:27:08.684234",
     "status": "completed"
    },
    "tags": []
   },
   "outputs": [
    {
     "data": {
      "text/plain": [
       "0"
      ]
     },
     "execution_count": 7,
     "metadata": {},
     "output_type": "execute_result"
    }
   ],
   "source": [
    "df.duplicated().sum()"
   ]
  },
  {
   "cell_type": "code",
   "execution_count": 8,
   "id": "69500adc",
   "metadata": {
    "execution": {
     "iopub.execute_input": "2024-04-02T17:27:08.733059Z",
     "iopub.status.busy": "2024-04-02T17:27:08.731724Z",
     "iopub.status.idle": "2024-04-02T17:27:09.285920Z",
     "shell.execute_reply": "2024-04-02T17:27:09.284311Z"
    },
    "papermill": {
     "duration": 0.569712,
     "end_time": "2024-04-02T17:27:09.289122",
     "exception": false,
     "start_time": "2024-04-02T17:27:08.719410",
     "status": "completed"
    },
    "tags": []
   },
   "outputs": [
    {
     "data": {
      "text/plain": [
       "array([[<Axes: title={'center': 'Height'}>,\n",
       "        <Axes: title={'center': 'Weight'}>]], dtype=object)"
      ]
     },
     "execution_count": 8,
     "metadata": {},
     "output_type": "execute_result"
    },
    {
     "data": {
      "image/png": "[encoded data removed]",
      "text/plain": [
       "<Figure size 640x480 with 2 Axes>"
      ]
     },
     "metadata": {},
     "output_type": "display_data"
    }
   ],
   "source": [
    "df.hist()"
   ]
  },
  {
   "cell_type": "code",
   "execution_count": 9,
   "id": "0ad0a317",
   "metadata": {
    "execution": {
     "iopub.execute_input": "2024-04-02T17:27:09.312073Z",
     "iopub.status.busy": "2024-04-02T17:27:09.311592Z",
     "iopub.status.idle": "2024-04-02T17:27:10.270329Z",
     "shell.execute_reply": "2024-04-02T17:27:10.268997Z"
    },
    "papermill": {
     "duration": 0.97413,
     "end_time": "2024-04-02T17:27:10.273592",
     "exception": false,
     "start_time": "2024-04-02T17:27:09.299462",
     "status": "completed"
    },
    "tags": []
   },
   "outputs": [
    {
     "name": "stderr",
     "output_type": "stream",
     "text": [
      "/opt/conda/lib/python3.10/site-packages/seaborn/_oldcore.py:1119: FutureWarning: use_inf_as_na option is deprecated and will be removed in a future version. Convert inf values to NaN before operating instead.\n",
      "  with pd.option_context('mode.use_inf_as_na', True):\n",
      "/opt/conda/lib/python3.10/site-packages/seaborn/_oldcore.py:1119: FutureWarning: use_inf_as_na option is deprecated and will be removed in a future version. Convert inf values to NaN before operating instead.\n",
      "  with pd.option_context('mode.use_inf_as_na', True):\n"
     ]
    },
    {
     "data": {
      "image/png": "[encoded data removed]",
      "text/plain": [
       "<Figure size 1600x500 with 2 Axes>"
      ]
     },
     "metadata": {},
     "output_type": "display_data"
    }
   ],
   "source": [
    "plt.figure(figsize=(16,5))\n",
    "plt.subplot(1,2,1)\n",
    "sns.histplot(df['Height'], kde=True)\n",
    "\n",
    "plt.subplot(1,2,2)\n",
    "sns.histplot(df['Weight'], kde=True)\n",
    "\n",
    "plt.show() # so it seems it's semtric"
   ]
  },
  {
   "cell_type": "code",
   "execution_count": 10,
   "id": "578ccba8",
   "metadata": {
    "execution": {
     "iopub.execute_input": "2024-04-02T17:27:10.299684Z",
     "iopub.status.busy": "2024-04-02T17:27:10.298784Z",
     "iopub.status.idle": "2024-04-02T17:27:10.524909Z",
     "shell.execute_reply": "2024-04-02T17:27:10.523723Z"
    },
    "papermill": {
     "duration": 0.242227,
     "end_time": "2024-04-02T17:27:10.527596",
     "exception": false,
     "start_time": "2024-04-02T17:27:10.285369",
     "status": "completed"
    },
    "tags": []
   },
   "outputs": [
    {
     "data": {
      "image/png": "[encoded data removed]",
      "text/plain": [
       "<Figure size 640x480 with 1 Axes>"
      ]
     },
     "metadata": {},
     "output_type": "display_data"
    }
   ],
   "source": [
    "height_boxplot = plt.boxplot(df[\"Height\"])"
   ]
  },
  {
   "cell_type": "code",
   "execution_count": 11,
   "id": "e03fdba9",
   "metadata": {
    "execution": {
     "iopub.execute_input": "2024-04-02T17:27:10.553668Z",
     "iopub.status.busy": "2024-04-02T17:27:10.553174Z",
     "iopub.status.idle": "2024-04-02T17:27:10.761676Z",
     "shell.execute_reply": "2024-04-02T17:27:10.760430Z"
    },
    "papermill": {
     "duration": 0.224757,
     "end_time": "2024-04-02T17:27:10.764241",
     "exception": false,
     "start_time": "2024-04-02T17:27:10.539484",
     "status": "completed"
    },
    "tags": []
   },
   "outputs": [
    {
     "data": {
      "image/png": "[encoded data removed]",
      "text/plain": [
       "<Figure size 640x480 with 1 Axes>"
      ]
     },
     "metadata": {},
     "output_type": "display_data"
    }
   ],
   "source": [
    "\n",
    "height_boxplot = plt.boxplot(df[\"Weight\"])"
   ]
  },
  {
   "cell_type": "code",
   "execution_count": 12,
   "id": "a69b90c3",
   "metadata": {
    "execution": {
     "iopub.execute_input": "2024-04-02T17:27:10.790744Z",
     "iopub.status.busy": "2024-04-02T17:27:10.790243Z",
     "iopub.status.idle": "2024-04-02T17:27:11.201050Z",
     "shell.execute_reply": "2024-04-02T17:27:11.199659Z"
    },
    "papermill": {
     "duration": 0.427176,
     "end_time": "2024-04-02T17:27:11.203788",
     "exception": false,
     "start_time": "2024-04-02T17:27:10.776612",
     "status": "completed"
    },
    "tags": []
   },
   "outputs": [
    {
     "data": {
      "text/plain": [
       "<matplotlib.lines.Line2D at 0x7b327e705cf0>"
      ]
     },
     "execution_count": 12,
     "metadata": {},
     "output_type": "execute_result"
    },
    {
     "data": {
      "image/png": "[encoded data removed]",
      "text/plain": [
       "<Figure size 640x480 with 1 Axes>"
      ]
     },
     "metadata": {},
     "output_type": "display_data"
    }
   ],
   "source": [
    "plt.scatter(x=df[\"Height\"],y=df[\"Weight\"])\n",
    "plt.title('Height and Weight',fontsize = 20, weight = \"bold\")\n",
    "plt.xlabel('Height ',fontsize = 7, weight = \"bold\")\n",
    "plt.ylabel('Weight',fontsize = 7, weight = \"bold\")\n",
    "\n",
    "plt.axhline(\n",
    "  y=np.nanmean(df[\"Weight\"]), \n",
    "  color = 'r',\n",
    "  linestyle = '--', \n",
    "  linewidth = 3\n",
    ")"
   ]
  },
  {
   "cell_type": "code",
   "execution_count": 13,
   "id": "bd03f13d",
   "metadata": {
    "execution": {
     "iopub.execute_input": "2024-04-02T17:27:11.233001Z",
     "iopub.status.busy": "2024-04-02T17:27:11.231701Z",
     "iopub.status.idle": "2024-04-02T17:27:11.241166Z",
     "shell.execute_reply": "2024-04-02T17:27:11.239968Z"
    },
    "papermill": {
     "duration": 0.026639,
     "end_time": "2024-04-02T17:27:11.243752",
     "exception": false,
     "start_time": "2024-04-02T17:27:11.217113",
     "status": "completed"
    },
    "tags": []
   },
   "outputs": [],
   "source": [
    "def removes_outliers(df):\n",
    "    threshold=1.5\n",
    "  # Create a copy\n",
    "    df_new = df.copy()\n",
    "\n",
    "  # Iterate through numeric columns and replace outliers\n",
    "    for i in df_new.select_dtypes(include=['int16', 'int32', 'int64', 'float16', 'float32', 'float64']):\n",
    "    # calculate iqr and thresholds\n",
    "        Q1 = df_new[i].quantile(0.25)\n",
    "        Q3 = df_new[i].quantile(0.75)\n",
    "        IQR = Q3 - Q1\n",
    "        lower_threshold = Q1 - threshold * IQR\n",
    "        upper_threshold = Q3 + threshold * IQR\n",
    "        # identify outliers and makes it detect zeros \n",
    "        outliers = ((df_new[i] < lower_threshold) | (df_new[i] > upper_threshold)) \n",
    "    \n",
    "        # Replace outliers with the mean\n",
    "        df_new = df_new.loc[~outliers,:] # by this way i have filterd the outliers and now the nonoutliers is only here\n",
    "    return df_new\n",
    "\n"
   ]
  },
  {
   "cell_type": "code",
   "execution_count": 14,
   "id": "03c5ce6b",
   "metadata": {
    "execution": {
     "iopub.execute_input": "2024-04-02T17:27:11.272784Z",
     "iopub.status.busy": "2024-04-02T17:27:11.272340Z",
     "iopub.status.idle": "2024-04-02T17:27:11.292175Z",
     "shell.execute_reply": "2024-04-02T17:27:11.290776Z"
    },
    "papermill": {
     "duration": 0.03849,
     "end_time": "2024-04-02T17:27:11.295313",
     "exception": false,
     "start_time": "2024-04-02T17:27:11.256823",
     "status": "completed"
    },
    "tags": []
   },
   "outputs": [],
   "source": [
    "df2 = removes_outliers(df)"
   ]
  },
  {
   "cell_type": "code",
   "execution_count": 15,
   "id": "2720b6d5",
   "metadata": {
    "execution": {
     "iopub.execute_input": "2024-04-02T17:27:11.324266Z",
     "iopub.status.busy": "2024-04-02T17:27:11.323767Z",
     "iopub.status.idle": "2024-04-02T17:27:11.331480Z",
     "shell.execute_reply": "2024-04-02T17:27:11.330107Z"
    },
    "papermill": {
     "duration": 0.025505,
     "end_time": "2024-04-02T17:27:11.334139",
     "exception": false,
     "start_time": "2024-04-02T17:27:11.308634",
     "status": "completed"
    },
    "tags": []
   },
   "outputs": [
    {
     "data": {
      "text/plain": [
       "(9992, 3)"
      ]
     },
     "execution_count": 15,
     "metadata": {},
     "output_type": "execute_result"
    }
   ],
   "source": [
    "df2.shape"
   ]
  },
  {
   "cell_type": "code",
   "execution_count": 16,
   "id": "6ea1ff92",
   "metadata": {
    "execution": {
     "iopub.execute_input": "2024-04-02T17:27:11.362132Z",
     "iopub.status.busy": "2024-04-02T17:27:11.361683Z",
     "iopub.status.idle": "2024-04-02T17:27:11.375843Z",
     "shell.execute_reply": "2024-04-02T17:27:11.374426Z"
    },
    "papermill": {
     "duration": 0.030644,
     "end_time": "2024-04-02T17:27:11.378154",
     "exception": false,
     "start_time": "2024-04-02T17:27:11.347510",
     "status": "completed"
    },
    "tags": []
   },
   "outputs": [
    {
     "data": {
      "text/html": [
       "<div>\n",
       "<style scoped>\n",
       "    .dataframe tbody tr th:only-of-type {\n",
       "        vertical-align: middle;\n",
       "    }\n",
       "\n",
       "    .dataframe tbody tr th {\n",
       "        vertical-align: top;\n",
       "    }\n",
       "\n",
       "    .dataframe thead th {\n",
       "        text-align: right;\n",
       "    }\n",
       "</style>\n",
       "<table border=\"1\" class=\"dataframe\">\n",
       "  <thead>\n",
       "    <tr style=\"text-align: right;\">\n",
       "      <th></th>\n",
       "      <th>Gender</th>\n",
       "      <th>Height</th>\n",
       "      <th>Weight</th>\n",
       "    </tr>\n",
       "  </thead>\n",
       "  <tbody>\n",
       "    <tr>\n",
       "      <th>0</th>\n",
       "      <td>Male</td>\n",
       "      <td>73.847017</td>\n",
       "      <td>241.893563</td>\n",
       "    </tr>\n",
       "    <tr>\n",
       "      <th>1</th>\n",
       "      <td>Male</td>\n",
       "      <td>68.781904</td>\n",
       "      <td>162.310473</td>\n",
       "    </tr>\n",
       "    <tr>\n",
       "      <th>2</th>\n",
       "      <td>Male</td>\n",
       "      <td>74.110105</td>\n",
       "      <td>212.740856</td>\n",
       "    </tr>\n",
       "    <tr>\n",
       "      <th>3</th>\n",
       "      <td>Male</td>\n",
       "      <td>71.730978</td>\n",
       "      <td>220.042470</td>\n",
       "    </tr>\n",
       "    <tr>\n",
       "      <th>4</th>\n",
       "      <td>Male</td>\n",
       "      <td>69.881796</td>\n",
       "      <td>206.349801</td>\n",
       "    </tr>\n",
       "  </tbody>\n",
       "</table>\n",
       "</div>"
      ],
      "text/plain": [
       "  Gender     Height      Weight\n",
       "0   Male  73.847017  241.893563\n",
       "1   Male  68.781904  162.310473\n",
       "2   Male  74.110105  212.740856\n",
       "3   Male  71.730978  220.042470\n",
       "4   Male  69.881796  206.349801"
      ]
     },
     "execution_count": 16,
     "metadata": {},
     "output_type": "execute_result"
    }
   ],
   "source": [
    "df2.head()"
   ]
  },
  {
   "cell_type": "code",
   "execution_count": 17,
   "id": "9a24b486",
   "metadata": {
    "execution": {
     "iopub.execute_input": "2024-04-02T17:27:11.406094Z",
     "iopub.status.busy": "2024-04-02T17:27:11.405588Z",
     "iopub.status.idle": "2024-04-02T17:27:11.411689Z",
     "shell.execute_reply": "2024-04-02T17:27:11.410444Z"
    },
    "papermill": {
     "duration": 0.023375,
     "end_time": "2024-04-02T17:27:11.414388",
     "exception": false,
     "start_time": "2024-04-02T17:27:11.391013",
     "status": "completed"
    },
    "tags": []
   },
   "outputs": [],
   "source": [
    "label_encoder = preprocessing.LabelEncoder() \n",
    "\n",
    "def convert_categorical_to_num(column):\n",
    "    df2[column]= label_encoder.fit_transform(df2[column]) \n",
    "    return df2[column]\n",
    "\n"
   ]
  },
  {
   "cell_type": "code",
   "execution_count": 18,
   "id": "a3e17938",
   "metadata": {
    "execution": {
     "iopub.execute_input": "2024-04-02T17:27:11.443041Z",
     "iopub.status.busy": "2024-04-02T17:27:11.442209Z",
     "iopub.status.idle": "2024-04-02T17:27:11.452357Z",
     "shell.execute_reply": "2024-04-02T17:27:11.450986Z"
    },
    "papermill": {
     "duration": 0.027727,
     "end_time": "2024-04-02T17:27:11.455003",
     "exception": false,
     "start_time": "2024-04-02T17:27:11.427276",
     "status": "completed"
    },
    "tags": []
   },
   "outputs": [],
   "source": [
    "X = df2[[\"Height\",\"Weight\"]]\n",
    "Y = convert_categorical_to_num(\"Gender\")"
   ]
  },
  {
   "cell_type": "code",
   "execution_count": 19,
   "id": "a90372dc",
   "metadata": {
    "execution": {
     "iopub.execute_input": "2024-04-02T17:27:11.483581Z",
     "iopub.status.busy": "2024-04-02T17:27:11.482214Z",
     "iopub.status.idle": "2024-04-02T17:27:11.493453Z",
     "shell.execute_reply": "2024-04-02T17:27:11.492217Z"
    },
    "papermill": {
     "duration": 0.028378,
     "end_time": "2024-04-02T17:27:11.496155",
     "exception": false,
     "start_time": "2024-04-02T17:27:11.467777",
     "status": "completed"
    },
    "tags": []
   },
   "outputs": [
    {
     "data": {
      "text/plain": [
       "0       1\n",
       "1       1\n",
       "2       1\n",
       "3       1\n",
       "4       1\n",
       "       ..\n",
       "9995    0\n",
       "9996    0\n",
       "9997    0\n",
       "9998    0\n",
       "9999    0\n",
       "Name: Gender, Length: 9992, dtype: int64"
      ]
     },
     "execution_count": 19,
     "metadata": {},
     "output_type": "execute_result"
    }
   ],
   "source": [
    "Y"
   ]
  },
  {
   "cell_type": "code",
   "execution_count": 20,
   "id": "f2d2a70e",
   "metadata": {
    "execution": {
     "iopub.execute_input": "2024-04-02T17:27:11.525661Z",
     "iopub.status.busy": "2024-04-02T17:27:11.524759Z",
     "iopub.status.idle": "2024-04-02T17:27:11.533904Z",
     "shell.execute_reply": "2024-04-02T17:27:11.532974Z"
    },
    "papermill": {
     "duration": 0.026602,
     "end_time": "2024-04-02T17:27:11.536522",
     "exception": false,
     "start_time": "2024-04-02T17:27:11.509920",
     "status": "completed"
    },
    "tags": []
   },
   "outputs": [],
   "source": [
    "x_train,x_test,y_train,y_test = train_test_split(X,Y,test_size=0.2) "
   ]
  },
  {
   "cell_type": "code",
   "execution_count": 21,
   "id": "79ca2b47",
   "metadata": {
    "execution": {
     "iopub.execute_input": "2024-04-02T17:27:11.565203Z",
     "iopub.status.busy": "2024-04-02T17:27:11.564448Z",
     "iopub.status.idle": "2024-04-02T17:27:11.595088Z",
     "shell.execute_reply": "2024-04-02T17:27:11.593929Z"
    },
    "papermill": {
     "duration": 0.047946,
     "end_time": "2024-04-02T17:27:11.597616",
     "exception": false,
     "start_time": "2024-04-02T17:27:11.549670",
     "status": "completed"
    },
    "tags": []
   },
   "outputs": [
    {
     "data": {
      "text/html": [
       "<style>#sk-container-id-1 {color: black;background-color: white;}#sk-container-id-1 pre{padding: 0;}#sk-container-id-1 div.sk-toggleable {background-color: white;}#sk-container-id-1 label.sk-toggleable__label {cursor: pointer;display: block;width: 100%;margin-bottom: 0;padding: 0.3em;box-sizing: border-box;text-align: center;}#sk-container-id-1 label.sk-toggleable__label-arrow:before {content: \"▸\";float: left;margin-right: 0.25em;color: #696969;}#sk-container-id-1 label.sk-toggleable__label-arrow:hover:before {color: black;}#sk-container-id-1 div.sk-estimator:hover label.sk-toggleable__label-arrow:before {color: black;}#sk-container-id-1 div.sk-toggleable__content {max-height: 0;max-width: 0;overflow: hidden;text-align: left;background-color: #f0f8ff;}#sk-container-id-1 div.sk-toggleable__content pre {margin: 0.2em;color: black;border-radius: 0.25em;background-color: #f0f8ff;}#sk-container-id-1 input.sk-toggleable__control:checked~div.sk-toggleable__content {max-height: 200px;max-width: 100%;overflow: auto;}#sk-container-id-1 input.sk-toggleable__control:checked~label.sk-toggleable__label-arrow:before {content: \"▾\";}#sk-container-id-1 div.sk-estimator input.sk-toggleable__control:checked~label.sk-toggleable__label {background-color: #d4ebff;}#sk-container-id-1 div.sk-label input.sk-toggleable__control:checked~label.sk-toggleable__label {background-color: #d4ebff;}#sk-container-id-1 input.sk-hidden--visually {border: 0;clip: rect(1px 1px 1px 1px);clip: rect(1px, 1px, 1px, 1px);height: 1px;margin: -1px;overflow: hidden;padding: 0;position: absolute;width: 1px;}#sk-container-id-1 div.sk-estimator {font-family: monospace;background-color: #f0f8ff;border: 1px dotted black;border-radius: 0.25em;box-sizing: border-box;margin-bottom: 0.5em;}#sk-container-id-1 div.sk-estimator:hover {background-color: #d4ebff;}#sk-container-id-1 div.sk-parallel-item::after {content: \"\";width: 100%;border-bottom: 1px solid gray;flex-grow: 1;}#sk-container-id-1 div.sk-label:hover label.sk-toggleable__label {background-color: #d4ebff;}#sk-container-id-1 div.sk-serial::before {content: \"\";position: absolute;border-left: 1px solid gray;box-sizing: border-box;top: 0;bottom: 0;left: 50%;z-index: 0;}#sk-container-id-1 div.sk-serial {display: flex;flex-direction: column;align-items: center;background-color: white;padding-right: 0.2em;padding-left: 0.2em;position: relative;}#sk-container-id-1 div.sk-item {position: relative;z-index: 1;}#sk-container-id-1 div.sk-parallel {display: flex;align-items: stretch;justify-content: center;background-color: white;position: relative;}#sk-container-id-1 div.sk-item::before, #sk-container-id-1 div.sk-parallel-item::before {content: \"\";position: absolute;border-left: 1px solid gray;box-sizing: border-box;top: 0;bottom: 0;left: 50%;z-index: -1;}#sk-container-id-1 div.sk-parallel-item {display: flex;flex-direction: column;z-index: 1;position: relative;background-color: white;}#sk-container-id-1 div.sk-parallel-item:first-child::after {align-self: flex-end;width: 50%;}#sk-container-id-1 div.sk-parallel-item:last-child::after {align-self: flex-start;width: 50%;}#sk-container-id-1 div.sk-parallel-item:only-child::after {width: 0;}#sk-container-id-1 div.sk-dashed-wrapped {border: 1px dashed gray;margin: 0 0.4em 0.5em 0.4em;box-sizing: border-box;padding-bottom: 0.4em;background-color: white;}#sk-container-id-1 div.sk-label label {font-family: monospace;font-weight: bold;display: inline-block;line-height: 1.2em;}#sk-container-id-1 div.sk-label-container {text-align: center;}#sk-container-id-1 div.sk-container {/* jupyter's `normalize.less` sets `[hidden] { display: none; }` but bootstrap.min.css set `[hidden] { display: none !important; }` so we also need the `!important` here to be able to override the default hidden behavior on the sphinx rendered scikit-learn.org. See: https://github.com/scikit-learn/scikit-learn/issues/21755 */display: inline-block !important;position: relative;}#sk-container-id-1 div.sk-text-repr-fallback {display: none;}</style><div id=\"sk-container-id-1\" class=\"sk-top-container\"><div class=\"sk-text-repr-fallback\"><pre>LinearRegression()</pre><b>In a Jupyter environment, please rerun this cell to show the HTML representation or trust the notebook. <br />On GitHub, the HTML representation is unable to render, please try loading this page with nbviewer.org.</b></div><div class=\"sk-container\" hidden><div class=\"sk-item\"><div class=\"sk-estimator sk-toggleable\"><input class=\"sk-toggleable__control sk-hidden--visually\" id=\"sk-estimator-id-1\" type=\"checkbox\" checked><label for=\"sk-estimator-id-1\" class=\"sk-toggleable__label sk-toggleable__label-arrow\">LinearRegression</label><div class=\"sk-toggleable__content\"><pre>LinearRegression()</pre></div></div></div></div></div>"
      ],
      "text/plain": [
       "LinearRegression()"
      ]
     },
     "execution_count": 21,
     "metadata": {},
     "output_type": "execute_result"
    }
   ],
   "source": [
    "model = LinearRegression() \n",
    "model.fit(x_train,y_train) # fitting the data"
   ]
  },
  {
   "cell_type": "code",
   "execution_count": 22,
   "id": "00f59746",
   "metadata": {
    "execution": {
     "iopub.execute_input": "2024-04-02T17:27:11.627019Z",
     "iopub.status.busy": "2024-04-02T17:27:11.626334Z",
     "iopub.status.idle": "2024-04-02T17:27:11.638740Z",
     "shell.execute_reply": "2024-04-02T17:27:11.636975Z"
    },
    "papermill": {
     "duration": 0.030062,
     "end_time": "2024-04-02T17:27:11.641284",
     "exception": false,
     "start_time": "2024-04-02T17:27:11.611222",
     "status": "completed"
    },
    "tags": []
   },
   "outputs": [
    {
     "name": "stderr",
     "output_type": "stream",
     "text": [
      "/opt/conda/lib/python3.10/site-packages/sklearn/base.py:439: UserWarning: X does not have valid feature names, but LinearRegression was fitted with feature names\n",
      "  warnings.warn(\n"
     ]
    },
    {
     "data": {
      "text/plain": [
       "array([1.55879475])"
      ]
     },
     "execution_count": 22,
     "metadata": {},
     "output_type": "execute_result"
    }
   ],
   "source": [
    "model.predict([[73.847017,241.893563]])"
   ]
  },
  {
   "cell_type": "code",
   "execution_count": 23,
   "id": "48af6d50",
   "metadata": {
    "execution": {
     "iopub.execute_input": "2024-04-02T17:27:11.672175Z",
     "iopub.status.busy": "2024-04-02T17:27:11.671470Z",
     "iopub.status.idle": "2024-04-02T17:27:11.682364Z",
     "shell.execute_reply": "2024-04-02T17:27:11.681322Z"
    },
    "papermill": {
     "duration": 0.029436,
     "end_time": "2024-04-02T17:27:11.684865",
     "exception": false,
     "start_time": "2024-04-02T17:27:11.655429",
     "status": "completed"
    },
    "tags": []
   },
   "outputs": [
    {
     "data": {
      "text/plain": [
       "0.6429794408370727"
      ]
     },
     "execution_count": 23,
     "metadata": {},
     "output_type": "execute_result"
    }
   ],
   "source": [
    "model.score(x_test,y_test)"
   ]
  },
  {
   "cell_type": "code",
   "execution_count": null,
   "id": "437c9bc8",
   "metadata": {
    "papermill": {
     "duration": 0.01387,
     "end_time": "2024-04-02T17:27:11.713321",
     "exception": false,
     "start_time": "2024-04-02T17:27:11.699451",
     "status": "completed"
    },
    "tags": []
   },
   "outputs": [],
   "source": []
  }
 ],
 "metadata": {
  "kaggle": {
   "accelerator": "none",
   "dataSources": [
    {
     "datasetId": 3373906,
     "sourceId": 5867980,
     "sourceType": "datasetVersion"
    }
   ],
   "dockerImageVersionId": 30673,
   "isGpuEnabled": false,
   "isInternetEnabled": true,
   "language": "python",
   "sourceType": "notebook"
  },
  "kernelspec": {
   "display_name": "Python 3",
   "language": "python",
   "name": "python3"
  },
  "language_info": {
   "codemirror_mode": {
    "name": "ipython",
    "version": 3
   },
   "file_extension": ".py",
   "mimetype": "text/x-python",
   "name": "python",
   "nbconvert_exporter": "python",
   "pygments_lexer": "ipython3",
   "version": "3.10.13"
  },
  "papermill": {
   "default_parameters": {},
   "duration": 10.973042,
   "end_time": "2024-04-02T17:27:12.550357",
   "environment_variables": {},
   "exception": null,
   "input_path": "__notebook__.ipynb",
   "output_path": "__notebook__.ipynb",
   "parameters": {},
   "start_time": "2024-04-02T17:27:01.577315",
   "version": "2.5.0"
  }
 },
 "nbformat": 4,
 "nbformat_minor": 5
}
