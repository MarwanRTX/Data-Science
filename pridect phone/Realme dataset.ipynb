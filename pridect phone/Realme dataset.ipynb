{
 "cells": [
  {
   "cell_type": "code",
   "execution_count": 228,
   "id": "73ba451a",
   "metadata": {},
   "outputs": [],
   "source": [
    "# importing libiraries and datafram\n",
    "import pandas as pd\n",
    "import numpy as np\n",
    "df = pd.read_csv(\"realme_uncleaned_MobilesData.csv\")"
   ]
  },
  {
   "cell_type": "code",
   "execution_count": 229,
   "id": "52302578",
   "metadata": {
    "scrolled": true
   },
   "outputs": [
    {
     "data": {
      "text/html": [
       "<div>\n",
       "<style scoped>\n",
       "    .dataframe tbody tr th:only-of-type {\n",
       "        vertical-align: middle;\n",
       "    }\n",
       "\n",
       "    .dataframe tbody tr th {\n",
       "        vertical-align: top;\n",
       "    }\n",
       "\n",
       "    .dataframe thead th {\n",
       "        text-align: right;\n",
       "    }\n",
       "</style>\n",
       "<table border=\"1\" class=\"dataframe\">\n",
       "  <thead>\n",
       "    <tr style=\"text-align: right;\">\n",
       "      <th></th>\n",
       "      <th>name</th>\n",
       "      <th>ratings</th>\n",
       "      <th>price</th>\n",
       "      <th>imgURL</th>\n",
       "      <th>storage_ram</th>\n",
       "      <th>camera</th>\n",
       "      <th>oS_Processor</th>\n",
       "      <th>display</th>\n",
       "      <th>network</th>\n",
       "      <th>battery</th>\n",
       "    </tr>\n",
       "  </thead>\n",
       "  <tbody>\n",
       "    <tr>\n",
       "      <th>0</th>\n",
       "      <td>realme C33 2023 (Sandy Gold, 128 GB)</td>\n",
       "      <td>4.4</td>\n",
       "      <td>₹10,499</td>\n",
       "      <td>https://rukminim2.flixcart.com/image/312/312/x...</td>\n",
       "      <td>Internal Storage128 GBRAM4 GBExpandable Storag...</td>\n",
       "      <td>Operating SystemAndroid 12Processor TypeUnisoc...</td>\n",
       "      <td>Primary Camera AvailableYesPrimary Camera50MP ...</td>\n",
       "      <td>Display Size16.51 cm (6.5 inch)Resolution1600 ...</td>\n",
       "      <td>Network Type4G VOLTE, 4G, 3G, 2GSupported Netw...</td>\n",
       "      <td>Battery Capacity5000 mAh</td>\n",
       "    </tr>\n",
       "    <tr>\n",
       "      <th>1</th>\n",
       "      <td>realme C33 2023 (Aqua Blue, 128 GB)</td>\n",
       "      <td>4.4</td>\n",
       "      <td>₹10,499</td>\n",
       "      <td>https://rukminim2.flixcart.com/image/312/312/x...</td>\n",
       "      <td>Internal Storage128 GBRAM4 GBExpandable Storag...</td>\n",
       "      <td>Operating SystemAndroid 12Processor TypeUnisoc...</td>\n",
       "      <td>Primary Camera AvailableYesPrimary Camera50MP ...</td>\n",
       "      <td>Display Size16.51 cm (6.5 inch)Resolution1600 ...</td>\n",
       "      <td>Network Type4G VOLTE, 4G, 3G, 2GSupported Netw...</td>\n",
       "      <td>Battery Capacity5000 mAh</td>\n",
       "    </tr>\n",
       "    <tr>\n",
       "      <th>2</th>\n",
       "      <td>realme C33 2023 (Night Sea, 128 GB)</td>\n",
       "      <td>4.4</td>\n",
       "      <td>₹10,499</td>\n",
       "      <td>https://rukminim2.flixcart.com/image/312/312/x...</td>\n",
       "      <td>Internal Storage128 GBRAM4 GBExpandable Storag...</td>\n",
       "      <td>Operating SystemAndroid 12Processor TypeUnisoc...</td>\n",
       "      <td>Primary Camera AvailableYesPrimary Camera50MP ...</td>\n",
       "      <td>Display Size16.51 cm (6.5 inch)Resolution1600 ...</td>\n",
       "      <td>Network Type4G VOLTE, 4G, 3G, 2GSupported Netw...</td>\n",
       "      <td>Battery Capacity5000 mAh</td>\n",
       "    </tr>\n",
       "  </tbody>\n",
       "</table>\n",
       "</div>"
      ],
      "text/plain": [
       "                                   name  ratings    price  \\\n",
       "0  realme C33 2023 (Sandy Gold, 128 GB)      4.4  ₹10,499   \n",
       "1   realme C33 2023 (Aqua Blue, 128 GB)      4.4  ₹10,499   \n",
       "2   realme C33 2023 (Night Sea, 128 GB)      4.4  ₹10,499   \n",
       "\n",
       "                                              imgURL  \\\n",
       "0  https://rukminim2.flixcart.com/image/312/312/x...   \n",
       "1  https://rukminim2.flixcart.com/image/312/312/x...   \n",
       "2  https://rukminim2.flixcart.com/image/312/312/x...   \n",
       "\n",
       "                                         storage_ram  \\\n",
       "0  Internal Storage128 GBRAM4 GBExpandable Storag...   \n",
       "1  Internal Storage128 GBRAM4 GBExpandable Storag...   \n",
       "2  Internal Storage128 GBRAM4 GBExpandable Storag...   \n",
       "\n",
       "                                              camera  \\\n",
       "0  Operating SystemAndroid 12Processor TypeUnisoc...   \n",
       "1  Operating SystemAndroid 12Processor TypeUnisoc...   \n",
       "2  Operating SystemAndroid 12Processor TypeUnisoc...   \n",
       "\n",
       "                                        oS_Processor  \\\n",
       "0  Primary Camera AvailableYesPrimary Camera50MP ...   \n",
       "1  Primary Camera AvailableYesPrimary Camera50MP ...   \n",
       "2  Primary Camera AvailableYesPrimary Camera50MP ...   \n",
       "\n",
       "                                             display  \\\n",
       "0  Display Size16.51 cm (6.5 inch)Resolution1600 ...   \n",
       "1  Display Size16.51 cm (6.5 inch)Resolution1600 ...   \n",
       "2  Display Size16.51 cm (6.5 inch)Resolution1600 ...   \n",
       "\n",
       "                                             network                   battery  \n",
       "0  Network Type4G VOLTE, 4G, 3G, 2GSupported Netw...  Battery Capacity5000 mAh  \n",
       "1  Network Type4G VOLTE, 4G, 3G, 2GSupported Netw...  Battery Capacity5000 mAh  \n",
       "2  Network Type4G VOLTE, 4G, 3G, 2GSupported Netw...  Battery Capacity5000 mAh  "
      ]
     },
     "execution_count": 229,
     "metadata": {},
     "output_type": "execute_result"
    }
   ],
   "source": [
    "df.head(3)"
   ]
  },
  {
   "cell_type": "code",
   "execution_count": 230,
   "id": "ed3097eb",
   "metadata": {},
   "outputs": [],
   "source": [
    "# we want to make a preidct by using rates , storage , ram and battery\n",
    "# i will use skelarn.Lienear model for this"
   ]
  },
  {
   "cell_type": "code",
   "execution_count": 231,
   "id": "dd5632b5",
   "metadata": {},
   "outputs": [],
   "source": [
    "# lets see if there is a NA or duplicates"
   ]
  },
  {
   "cell_type": "code",
   "execution_count": 232,
   "id": "53299722",
   "metadata": {},
   "outputs": [
    {
     "data": {
      "text/plain": [
       "15"
      ]
     },
     "execution_count": 232,
     "metadata": {},
     "output_type": "execute_result"
    }
   ],
   "source": [
    "df.duplicated().sum() "
   ]
  },
  {
   "cell_type": "code",
   "execution_count": 233,
   "id": "4ed3c724",
   "metadata": {},
   "outputs": [],
   "source": [
    "# so there is 15 duplicated values"
   ]
  },
  {
   "cell_type": "code",
   "execution_count": 234,
   "id": "5aa27e6a",
   "metadata": {},
   "outputs": [
    {
     "data": {
      "text/plain": [
       "name             0\n",
       "ratings         35\n",
       "price            0\n",
       "imgURL           0\n",
       "storage_ram      0\n",
       "camera           0\n",
       "oS_Processor     0\n",
       "display          0\n",
       "network          0\n",
       "battery          0\n",
       "dtype: int64"
      ]
     },
     "execution_count": 234,
     "metadata": {},
     "output_type": "execute_result"
    }
   ],
   "source": [
    "df.isna().sum()"
   ]
  },
  {
   "cell_type": "code",
   "execution_count": 235,
   "id": "437358ab",
   "metadata": {},
   "outputs": [],
   "source": [
    "# and there is 35 Nan values\n",
    "# so i am gonna remove them"
   ]
  },
  {
   "cell_type": "code",
   "execution_count": 236,
   "id": "70637c34",
   "metadata": {},
   "outputs": [],
   "source": [
    "df.dropna(inplace=True)\n",
    "df.drop_duplicates(inplace=True)"
   ]
  },
  {
   "cell_type": "code",
   "execution_count": 237,
   "id": "374121f2",
   "metadata": {},
   "outputs": [
    {
     "data": {
      "text/plain": [
       "0"
      ]
     },
     "execution_count": 237,
     "metadata": {},
     "output_type": "execute_result"
    }
   ],
   "source": [
    "df.duplicated().sum() \n",
    "# df.isna().sum()"
   ]
  },
  {
   "cell_type": "code",
   "execution_count": 238,
   "id": "00a17952",
   "metadata": {},
   "outputs": [],
   "source": [
    "# so there isn't any duplicated values or Nan values"
   ]
  },
  {
   "cell_type": "code",
   "execution_count": 239,
   "id": "83cece44",
   "metadata": {},
   "outputs": [],
   "source": [
    "#Lets drop some useless columns\n",
    "df2 = df.drop([\"name\",\"imgURL\",\"oS_Processor\",\"display\",\"network\",\"camera\"],axis=1)"
   ]
  },
  {
   "cell_type": "code",
   "execution_count": 240,
   "id": "55bdc86c",
   "metadata": {},
   "outputs": [
    {
     "data": {
      "text/html": [
       "<div>\n",
       "<style scoped>\n",
       "    .dataframe tbody tr th:only-of-type {\n",
       "        vertical-align: middle;\n",
       "    }\n",
       "\n",
       "    .dataframe tbody tr th {\n",
       "        vertical-align: top;\n",
       "    }\n",
       "\n",
       "    .dataframe thead th {\n",
       "        text-align: right;\n",
       "    }\n",
       "</style>\n",
       "<table border=\"1\" class=\"dataframe\">\n",
       "  <thead>\n",
       "    <tr style=\"text-align: right;\">\n",
       "      <th></th>\n",
       "      <th>ratings</th>\n",
       "      <th>price</th>\n",
       "      <th>storage_ram</th>\n",
       "      <th>battery</th>\n",
       "    </tr>\n",
       "  </thead>\n",
       "  <tbody>\n",
       "    <tr>\n",
       "      <th>0</th>\n",
       "      <td>4.4</td>\n",
       "      <td>₹10,499</td>\n",
       "      <td>Internal Storage128 GBRAM4 GBExpandable Storag...</td>\n",
       "      <td>Battery Capacity5000 mAh</td>\n",
       "    </tr>\n",
       "    <tr>\n",
       "      <th>1</th>\n",
       "      <td>4.4</td>\n",
       "      <td>₹10,499</td>\n",
       "      <td>Internal Storage128 GBRAM4 GBExpandable Storag...</td>\n",
       "      <td>Battery Capacity5000 mAh</td>\n",
       "    </tr>\n",
       "  </tbody>\n",
       "</table>\n",
       "</div>"
      ],
      "text/plain": [
       "   ratings    price                                        storage_ram  \\\n",
       "0      4.4  ₹10,499  Internal Storage128 GBRAM4 GBExpandable Storag...   \n",
       "1      4.4  ₹10,499  Internal Storage128 GBRAM4 GBExpandable Storag...   \n",
       "\n",
       "                    battery  \n",
       "0  Battery Capacity5000 mAh  \n",
       "1  Battery Capacity5000 mAh  "
      ]
     },
     "execution_count": 240,
     "metadata": {},
     "output_type": "execute_result"
    }
   ],
   "source": [
    "df2.head(2)"
   ]
  },
  {
   "cell_type": "code",
   "execution_count": 241,
   "id": "8fe17152",
   "metadata": {},
   "outputs": [],
   "source": [
    "# we want to remove the \"₹\" from the price and the \",\"\n",
    "\n",
    "df2['price'] = df2['price'].str.replace('₹', '').astype(str)\n",
    "df2['price'] = df2['price'].str.replace(',', '').astype(int)"
   ]
  },
  {
   "cell_type": "code",
   "execution_count": 242,
   "id": "7b1a239c",
   "metadata": {},
   "outputs": [
    {
     "data": {
      "text/html": [
       "<div>\n",
       "<style scoped>\n",
       "    .dataframe tbody tr th:only-of-type {\n",
       "        vertical-align: middle;\n",
       "    }\n",
       "\n",
       "    .dataframe tbody tr th {\n",
       "        vertical-align: top;\n",
       "    }\n",
       "\n",
       "    .dataframe thead th {\n",
       "        text-align: right;\n",
       "    }\n",
       "</style>\n",
       "<table border=\"1\" class=\"dataframe\">\n",
       "  <thead>\n",
       "    <tr style=\"text-align: right;\">\n",
       "      <th></th>\n",
       "      <th>ratings</th>\n",
       "      <th>price</th>\n",
       "      <th>storage_ram</th>\n",
       "      <th>battery</th>\n",
       "    </tr>\n",
       "  </thead>\n",
       "  <tbody>\n",
       "    <tr>\n",
       "      <th>0</th>\n",
       "      <td>4.4</td>\n",
       "      <td>10499</td>\n",
       "      <td>Internal Storage128 GBRAM4 GBExpandable Storag...</td>\n",
       "      <td>Battery Capacity5000 mAh</td>\n",
       "    </tr>\n",
       "    <tr>\n",
       "      <th>1</th>\n",
       "      <td>4.4</td>\n",
       "      <td>10499</td>\n",
       "      <td>Internal Storage128 GBRAM4 GBExpandable Storag...</td>\n",
       "      <td>Battery Capacity5000 mAh</td>\n",
       "    </tr>\n",
       "  </tbody>\n",
       "</table>\n",
       "</div>"
      ],
      "text/plain": [
       "   ratings  price                                        storage_ram  \\\n",
       "0      4.4  10499  Internal Storage128 GBRAM4 GBExpandable Storag...   \n",
       "1      4.4  10499  Internal Storage128 GBRAM4 GBExpandable Storag...   \n",
       "\n",
       "                    battery  \n",
       "0  Battery Capacity5000 mAh  \n",
       "1  Battery Capacity5000 mAh  "
      ]
     },
     "execution_count": 242,
     "metadata": {},
     "output_type": "execute_result"
    }
   ],
   "source": [
    "df2.head(2)"
   ]
  },
  {
   "cell_type": "code",
   "execution_count": 243,
   "id": "91904bac",
   "metadata": {},
   "outputs": [],
   "source": [
    "# now we want to split the storage and ram to make storage is column and ram is another column"
   ]
  },
  {
   "cell_type": "code",
   "execution_count": 244,
   "id": "38175499",
   "metadata": {},
   "outputs": [],
   "source": [
    "def extract_storage(row):\n",
    "    storage = row.split()[1]\n",
    "    return storage\n",
    "\n",
    "def extract_ram(row):\n",
    "    ram = row.split()[2]\n",
    "    return ram\n",
    "\n",
    "df2['storage'] = df2['storage_ram'].apply(func=extract_storage)\n",
    "df2['ram'] = df2['storage_ram'].apply(func=extract_ram)"
   ]
  },
  {
   "cell_type": "code",
   "execution_count": 245,
   "id": "6080019f",
   "metadata": {},
   "outputs": [
    {
     "data": {
      "text/html": [
       "<div>\n",
       "<style scoped>\n",
       "    .dataframe tbody tr th:only-of-type {\n",
       "        vertical-align: middle;\n",
       "    }\n",
       "\n",
       "    .dataframe tbody tr th {\n",
       "        vertical-align: top;\n",
       "    }\n",
       "\n",
       "    .dataframe thead th {\n",
       "        text-align: right;\n",
       "    }\n",
       "</style>\n",
       "<table border=\"1\" class=\"dataframe\">\n",
       "  <thead>\n",
       "    <tr style=\"text-align: right;\">\n",
       "      <th></th>\n",
       "      <th>ratings</th>\n",
       "      <th>price</th>\n",
       "      <th>storage_ram</th>\n",
       "      <th>battery</th>\n",
       "      <th>storage</th>\n",
       "      <th>ram</th>\n",
       "    </tr>\n",
       "  </thead>\n",
       "  <tbody>\n",
       "    <tr>\n",
       "      <th>0</th>\n",
       "      <td>4.4</td>\n",
       "      <td>10499</td>\n",
       "      <td>Internal Storage128 GBRAM4 GBExpandable Storag...</td>\n",
       "      <td>Battery Capacity5000 mAh</td>\n",
       "      <td>Storage128</td>\n",
       "      <td>GBRAM4</td>\n",
       "    </tr>\n",
       "    <tr>\n",
       "      <th>1</th>\n",
       "      <td>4.4</td>\n",
       "      <td>10499</td>\n",
       "      <td>Internal Storage128 GBRAM4 GBExpandable Storag...</td>\n",
       "      <td>Battery Capacity5000 mAh</td>\n",
       "      <td>Storage128</td>\n",
       "      <td>GBRAM4</td>\n",
       "    </tr>\n",
       "  </tbody>\n",
       "</table>\n",
       "</div>"
      ],
      "text/plain": [
       "   ratings  price                                        storage_ram  \\\n",
       "0      4.4  10499  Internal Storage128 GBRAM4 GBExpandable Storag...   \n",
       "1      4.4  10499  Internal Storage128 GBRAM4 GBExpandable Storag...   \n",
       "\n",
       "                    battery     storage     ram  \n",
       "0  Battery Capacity5000 mAh  Storage128  GBRAM4  \n",
       "1  Battery Capacity5000 mAh  Storage128  GBRAM4  "
      ]
     },
     "execution_count": 245,
     "metadata": {},
     "output_type": "execute_result"
    }
   ],
   "source": [
    "df2.head(2)"
   ]
  },
  {
   "cell_type": "code",
   "execution_count": 246,
   "id": "8620dc2d",
   "metadata": {},
   "outputs": [],
   "source": [
    "df2 = df2.drop([\"storage_ram\"],axis = 1)"
   ]
  },
  {
   "cell_type": "code",
   "execution_count": null,
   "id": "7933de69",
   "metadata": {},
   "outputs": [],
   "source": []
  },
  {
   "cell_type": "code",
   "execution_count": 247,
   "id": "f595e6af",
   "metadata": {},
   "outputs": [],
   "source": [
    "df2['storage'] = df2['storage'].str.replace('Storage', '').astype(str)\n",
    "df2['storage'] = df2['storage'].str.replace('Storage', '').astype(int)"
   ]
  },
  {
   "cell_type": "code",
   "execution_count": 248,
   "id": "06960428",
   "metadata": {},
   "outputs": [],
   "source": [
    "df2['ram'] = df2['ram'].str.replace('GBRAM', '').astype(str)\n",
    "df2['ram'] = df2['ram'].str.replace('GBRAM', '').astype(int)"
   ]
  },
  {
   "cell_type": "code",
   "execution_count": 249,
   "id": "a110a32b",
   "metadata": {},
   "outputs": [
    {
     "data": {
      "text/html": [
       "<div>\n",
       "<style scoped>\n",
       "    .dataframe tbody tr th:only-of-type {\n",
       "        vertical-align: middle;\n",
       "    }\n",
       "\n",
       "    .dataframe tbody tr th {\n",
       "        vertical-align: top;\n",
       "    }\n",
       "\n",
       "    .dataframe thead th {\n",
       "        text-align: right;\n",
       "    }\n",
       "</style>\n",
       "<table border=\"1\" class=\"dataframe\">\n",
       "  <thead>\n",
       "    <tr style=\"text-align: right;\">\n",
       "      <th></th>\n",
       "      <th>ratings</th>\n",
       "      <th>price</th>\n",
       "      <th>battery</th>\n",
       "      <th>storage</th>\n",
       "      <th>ram</th>\n",
       "    </tr>\n",
       "  </thead>\n",
       "  <tbody>\n",
       "    <tr>\n",
       "      <th>0</th>\n",
       "      <td>4.4</td>\n",
       "      <td>10499</td>\n",
       "      <td>Battery Capacity5000 mAh</td>\n",
       "      <td>128</td>\n",
       "      <td>4</td>\n",
       "    </tr>\n",
       "    <tr>\n",
       "      <th>1</th>\n",
       "      <td>4.4</td>\n",
       "      <td>10499</td>\n",
       "      <td>Battery Capacity5000 mAh</td>\n",
       "      <td>128</td>\n",
       "      <td>4</td>\n",
       "    </tr>\n",
       "  </tbody>\n",
       "</table>\n",
       "</div>"
      ],
      "text/plain": [
       "   ratings  price                   battery  storage  ram\n",
       "0      4.4  10499  Battery Capacity5000 mAh      128    4\n",
       "1      4.4  10499  Battery Capacity5000 mAh      128    4"
      ]
     },
     "execution_count": 249,
     "metadata": {},
     "output_type": "execute_result"
    }
   ],
   "source": [
    "df2.head(2)"
   ]
  },
  {
   "cell_type": "code",
   "execution_count": 250,
   "id": "dfd9eb0a",
   "metadata": {},
   "outputs": [],
   "source": [
    "# now we have to remove the text in battery"
   ]
  },
  {
   "cell_type": "code",
   "execution_count": 251,
   "id": "a96ba30b",
   "metadata": {},
   "outputs": [],
   "source": [
    "df2['battery'] = df2['battery'].str.extract('(\\d+)').astype(int)"
   ]
  },
  {
   "cell_type": "code",
   "execution_count": 252,
   "id": "076774e3",
   "metadata": {},
   "outputs": [
    {
     "data": {
      "text/html": [
       "<div>\n",
       "<style scoped>\n",
       "    .dataframe tbody tr th:only-of-type {\n",
       "        vertical-align: middle;\n",
       "    }\n",
       "\n",
       "    .dataframe tbody tr th {\n",
       "        vertical-align: top;\n",
       "    }\n",
       "\n",
       "    .dataframe thead th {\n",
       "        text-align: right;\n",
       "    }\n",
       "</style>\n",
       "<table border=\"1\" class=\"dataframe\">\n",
       "  <thead>\n",
       "    <tr style=\"text-align: right;\">\n",
       "      <th></th>\n",
       "      <th>ratings</th>\n",
       "      <th>price</th>\n",
       "      <th>battery</th>\n",
       "      <th>storage</th>\n",
       "      <th>ram</th>\n",
       "    </tr>\n",
       "  </thead>\n",
       "  <tbody>\n",
       "    <tr>\n",
       "      <th>0</th>\n",
       "      <td>4.4</td>\n",
       "      <td>10499</td>\n",
       "      <td>5000</td>\n",
       "      <td>128</td>\n",
       "      <td>4</td>\n",
       "    </tr>\n",
       "    <tr>\n",
       "      <th>1</th>\n",
       "      <td>4.4</td>\n",
       "      <td>10499</td>\n",
       "      <td>5000</td>\n",
       "      <td>128</td>\n",
       "      <td>4</td>\n",
       "    </tr>\n",
       "  </tbody>\n",
       "</table>\n",
       "</div>"
      ],
      "text/plain": [
       "   ratings  price  battery  storage  ram\n",
       "0      4.4  10499     5000      128    4\n",
       "1      4.4  10499     5000      128    4"
      ]
     },
     "execution_count": 252,
     "metadata": {},
     "output_type": "execute_result"
    }
   ],
   "source": [
    "df2.head(2)"
   ]
  },
  {
   "cell_type": "code",
   "execution_count": 253,
   "id": "3fde19d4",
   "metadata": {
    "scrolled": true
   },
   "outputs": [
    {
     "data": {
      "text/plain": [
       "67"
      ]
     },
     "execution_count": 253,
     "metadata": {},
     "output_type": "execute_result"
    }
   ],
   "source": [
    "df2.duplicated().sum()"
   ]
  },
  {
   "cell_type": "code",
   "execution_count": 254,
   "id": "f72b321d",
   "metadata": {
    "scrolled": true
   },
   "outputs": [
    {
     "data": {
      "text/html": [
       "<div>\n",
       "<style scoped>\n",
       "    .dataframe tbody tr th:only-of-type {\n",
       "        vertical-align: middle;\n",
       "    }\n",
       "\n",
       "    .dataframe tbody tr th {\n",
       "        vertical-align: top;\n",
       "    }\n",
       "\n",
       "    .dataframe thead th {\n",
       "        text-align: right;\n",
       "    }\n",
       "</style>\n",
       "<table border=\"1\" class=\"dataframe\">\n",
       "  <thead>\n",
       "    <tr style=\"text-align: right;\">\n",
       "      <th></th>\n",
       "      <th>ratings</th>\n",
       "      <th>price</th>\n",
       "      <th>battery</th>\n",
       "      <th>storage</th>\n",
       "      <th>ram</th>\n",
       "    </tr>\n",
       "  </thead>\n",
       "  <tbody>\n",
       "    <tr>\n",
       "      <th>0</th>\n",
       "      <td>4.4</td>\n",
       "      <td>10499</td>\n",
       "      <td>5000</td>\n",
       "      <td>128</td>\n",
       "      <td>4</td>\n",
       "    </tr>\n",
       "    <tr>\n",
       "      <th>3</th>\n",
       "      <td>4.2</td>\n",
       "      <td>5999</td>\n",
       "      <td>5000</td>\n",
       "      <td>32</td>\n",
       "      <td>2</td>\n",
       "    </tr>\n",
       "    <tr>\n",
       "      <th>4</th>\n",
       "      <td>4.1</td>\n",
       "      <td>6499</td>\n",
       "      <td>5000</td>\n",
       "      <td>32</td>\n",
       "      <td>3</td>\n",
       "    </tr>\n",
       "    <tr>\n",
       "      <th>5</th>\n",
       "      <td>4.3</td>\n",
       "      <td>11999</td>\n",
       "      <td>5000</td>\n",
       "      <td>64</td>\n",
       "      <td>6</td>\n",
       "    </tr>\n",
       "    <tr>\n",
       "      <th>6</th>\n",
       "      <td>4.4</td>\n",
       "      <td>13999</td>\n",
       "      <td>5000</td>\n",
       "      <td>128</td>\n",
       "      <td>8</td>\n",
       "    </tr>\n",
       "    <tr>\n",
       "      <th>...</th>\n",
       "      <td>...</td>\n",
       "      <td>...</td>\n",
       "      <td>...</td>\n",
       "      <td>...</td>\n",
       "      <td>...</td>\n",
       "    </tr>\n",
       "    <tr>\n",
       "      <th>255</th>\n",
       "      <td>4.4</td>\n",
       "      <td>11499</td>\n",
       "      <td>5000</td>\n",
       "      <td>64</td>\n",
       "      <td>6</td>\n",
       "    </tr>\n",
       "    <tr>\n",
       "      <th>256</th>\n",
       "      <td>4.4</td>\n",
       "      <td>38999</td>\n",
       "      <td>5000</td>\n",
       "      <td>256</td>\n",
       "      <td>12</td>\n",
       "    </tr>\n",
       "    <tr>\n",
       "      <th>257</th>\n",
       "      <td>4.3</td>\n",
       "      <td>38999</td>\n",
       "      <td>5000</td>\n",
       "      <td>256</td>\n",
       "      <td>12</td>\n",
       "    </tr>\n",
       "    <tr>\n",
       "      <th>258</th>\n",
       "      <td>4.6</td>\n",
       "      <td>34999</td>\n",
       "      <td>5000</td>\n",
       "      <td>128</td>\n",
       "      <td>8</td>\n",
       "    </tr>\n",
       "    <tr>\n",
       "      <th>259</th>\n",
       "      <td>4.4</td>\n",
       "      <td>7499</td>\n",
       "      <td>5000</td>\n",
       "      <td>32</td>\n",
       "      <td>3</td>\n",
       "    </tr>\n",
       "  </tbody>\n",
       "</table>\n",
       "<p>147 rows × 5 columns</p>\n",
       "</div>"
      ],
      "text/plain": [
       "     ratings  price  battery  storage  ram\n",
       "0        4.4  10499     5000      128    4\n",
       "3        4.2   5999     5000       32    2\n",
       "4        4.1   6499     5000       32    3\n",
       "5        4.3  11999     5000       64    6\n",
       "6        4.4  13999     5000      128    8\n",
       "..       ...    ...      ...      ...  ...\n",
       "255      4.4  11499     5000       64    6\n",
       "256      4.4  38999     5000      256   12\n",
       "257      4.3  38999     5000      256   12\n",
       "258      4.6  34999     5000      128    8\n",
       "259      4.4   7499     5000       32    3\n",
       "\n",
       "[147 rows x 5 columns]"
      ]
     },
     "execution_count": 254,
     "metadata": {},
     "output_type": "execute_result"
    }
   ],
   "source": [
    "df2.drop_duplicates()"
   ]
  },
  {
   "cell_type": "code",
   "execution_count": 255,
   "id": "6e4e9dc3",
   "metadata": {},
   "outputs": [
    {
     "data": {
      "text/plain": [
       "ratings    0\n",
       "price      0\n",
       "battery    0\n",
       "storage    0\n",
       "ram        0\n",
       "dtype: int64"
      ]
     },
     "execution_count": 255,
     "metadata": {},
     "output_type": "execute_result"
    }
   ],
   "source": [
    "df2.isna().sum()"
   ]
  },
  {
   "cell_type": "code",
   "execution_count": 256,
   "id": "95bbb528",
   "metadata": {},
   "outputs": [
    {
     "data": {
      "text/plain": [
       "LinearRegression()"
      ]
     },
     "execution_count": 256,
     "metadata": {},
     "output_type": "execute_result"
    }
   ],
   "source": [
    "# now our data fram is ready to make prediction on it\n",
    "from sklearn import linear_model\n",
    "reg = linear_model.LinearRegression()\n",
    "reg.fit(df2[[\"ratings\",\"battery\",\"storage\",\"ram\"]],df2[\"price\"])"
   ]
  },
  {
   "cell_type": "code",
   "execution_count": 258,
   "id": "3d41e191",
   "metadata": {
    "scrolled": true
   },
   "outputs": [
    {
     "name": "stderr",
     "output_type": "stream",
     "text": [
      "C:\\Users\\TAI\\anaconda3\\lib\\site-packages\\sklearn\\base.py:450: UserWarning: X does not have valid feature names, but LinearRegression was fitted with feature names\n",
      "  warnings.warn(\n"
     ]
    },
    {
     "data": {
      "text/plain": [
       "array([13382])"
      ]
     },
     "execution_count": 258,
     "metadata": {},
     "output_type": "execute_result"
    }
   ],
   "source": [
    "#i predicted a phone price with rate 4,4 and battery 5000 and 128 storage and 4 rams\n",
    "reg.predict([[4.4,5000,128,4]]).astype(int)"
   ]
  },
  {
   "cell_type": "code",
   "execution_count": null,
   "id": "cb4a77bc",
   "metadata": {},
   "outputs": [],
   "source": []
  }
 ],
 "metadata": {
  "kernelspec": {
   "display_name": "Python 3 (ipykernel)",
   "language": "python",
   "name": "python3"
  },
  "language_info": {
   "codemirror_mode": {
    "name": "ipython",
    "version": 3
   },
   "file_extension": ".py",
   "mimetype": "text/x-python",
   "name": "python",
   "nbconvert_exporter": "python",
   "pygments_lexer": "ipython3",
   "version": "3.9.13"
  }
 },
 "nbformat": 4,
 "nbformat_minor": 5
}
